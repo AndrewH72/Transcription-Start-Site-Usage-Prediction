{
 "cells": [
  {
   "cell_type": "code",
   "execution_count": 123,
   "id": "0f64100f-21d9-4e00-9c91-bdbd1f497f63",
   "metadata": {},
   "outputs": [],
   "source": [
    "import os\n",
    "import h5py\n",
    "import numpy as np\n",
    "import pandas as pd\n",
    "import matplotlib.pyplot as plt"
   ]
  },
  {
   "cell_type": "code",
   "execution_count": 2,
   "id": "297c219e-7572-4c4d-b23c-c2d8e3262200",
   "metadata": {},
   "outputs": [],
   "source": [
    "os.chdir('/home/witoslaw/diffTSS/trained_models/2025-07-17-17')"
   ]
  },
  {
   "cell_type": "code",
   "execution_count": 3,
   "id": "0f772bab-3d35-4d42-bc2c-1b7012f7d476",
   "metadata": {},
   "outputs": [
    {
     "data": {
      "text/plain": [
       "'/home/witoslaw/diffTSS/trained_models/2025-07-17-17'"
      ]
     },
     "execution_count": 3,
     "metadata": {},
     "output_type": "execute_result"
    }
   ],
   "source": [
    "os.getcwd()"
   ]
  },
  {
   "cell_type": "code",
   "execution_count": 37,
   "id": "b57c91d3-72ea-4666-8d3e-e355669bae75",
   "metadata": {},
   "outputs": [],
   "source": [
    "results_dict = {}\n",
    "results_dict['K562'] = pd.DataFrame()\n",
    "results_dict['GM12878'] = pd.DataFrame()\n",
    "\n",
    "for file in [file for file in os.listdir() if 'csv' in file]:\n",
    "    #print(f\"File: {'.'.join(file.split('.')[-5:-2])}\")\n",
    "    if 'K562' in file:\n",
    "        results_dict['K562'] = pd.concat([results_dict['K562'], pd.read_csv(file)], ignore_index=True)\n",
    "    else:\n",
    "        results_dict['GM12878'] = pd.concat([results_dict['GM12878'], pd.read_csv(file)], ignore_index=True)"
   ]
  },
  {
   "cell_type": "code",
   "execution_count": 73,
   "id": "51f22f52-687f-4ced-92fe-98f5b3bd2301",
   "metadata": {},
   "outputs": [],
   "source": [
    "K562_h5 = h5py.File('/home/witoslaw/data/diffTSS/K562_enhancer_promoter_encoding.rna_encoding.hg38.h5')\n",
    "GM12878_h5 = h5py.File('/home/witoslaw/data/diffTSS/GM12878_enhancer_promoter_encoding.rna_encoding.hg38.h5')"
   ]
  },
  {
   "cell_type": "markdown",
   "id": "94dd4f23-1c2d-4048-a8f7-6580c379b3f3",
   "metadata": {},
   "source": [
    "---\n",
    "## Getting RNA signals for TSSs predicted as negative values"
   ]
  },
  {
   "cell_type": "code",
   "execution_count": 70,
   "id": "113cf5b0-1ea3-4a53-8494-f2c295dbbd69",
   "metadata": {},
   "outputs": [
    {
     "name": "stdout",
     "output_type": "stream",
     "text": [
      "For K562\n",
      "Mean error: 0.4940765429518538\n",
      "Max error: 4.908513902\n",
      "Min error: 1.8000000000073513e-05\n",
      "              Unnamed: 0      Pred  actual  fold_idx     error  neg_pred\n",
      "6        ENSG00000116183 -0.002844     0.0         1  0.002844      True\n",
      "1829     ENSG00000234754 -0.004653     0.0         1  0.004653      True\n",
      "2111     ENSG00000007933 -0.002311     0.0         1  0.002311      True\n",
      "7317     ENSG00000134489 -0.004991     0.0         4  0.004991      True\n",
      "7458     ENSG00000178522 -0.001096     0.0         4  0.001096      True\n",
      "...                  ...       ...     ...       ...       ...       ...\n",
      "25553    ENSG00000280809 -0.023375     0.0        11  0.023375      True\n",
      "25560    ENSG00000237797 -0.003499     0.0        11  0.003499      True\n",
      "25576  ENSG00000159398_1 -0.012483     0.0        11  0.012483      True\n",
      "25635    ENSG00000260314 -0.008390     0.0        11  0.008390      True\n",
      "25637  ENSG00000151474_2 -0.003149     0.0        11  0.003149      True\n",
      "\n",
      "[532 rows x 6 columns]\n",
      "For GM12878\n",
      "Mean error: 0.47212343980751365\n",
      "Max error: 4.650927579999999\n",
      "Min error: 4.979999999998874e-05\n",
      "              Unnamed: 0      Pred    actual  fold_idx     error  neg_pred\n",
      "0      ENSG00000189195_1 -0.012590  0.000000         1  0.012590      True\n",
      "12     ENSG00000152061_2 -0.018962  0.000000         1  0.018962      True\n",
      "14       ENSG00000117139 -0.010160  0.472596         1  0.482756      True\n",
      "26       ENSG00000132122 -0.027243  0.000000         1  0.027243      True\n",
      "56       ENSG00000092853 -0.023331  0.000000         1  0.023331      True\n",
      "...                  ...       ...       ...       ...       ...       ...\n",
      "17422    ENSG00000273415 -0.028471  0.000000         8  0.028471      True\n",
      "17461    ENSG00000254562 -0.003405  0.000000         8  0.003405      True\n",
      "17570    ENSG00000281566 -0.008470  0.000000         8  0.008470      True\n",
      "17804  ENSG00000110693_1 -0.013451  0.742568         8  0.756019      True\n",
      "17845    ENSG00000152266 -0.005796  0.000000         8  0.005796      True\n",
      "\n",
      "[334 rows x 6 columns]\n"
     ]
    }
   ],
   "source": [
    "neg_pred_dict = {}\n",
    "neg_pred_dict['K562'] = []\n",
    "neg_pred_dict['GM12878'] = []\n",
    "\n",
    "for key in results_dict.keys():\n",
    "    results_dict[key]['error'] = abs(results_dict[key]['Pred'] - results_dict[key]['actual'])\n",
    "    results_dict[key]['neg_pred'] = results_dict[key]['Pred'] < 0\n",
    "    neg_pred_dict[key] = list(results_dict[key][results_dict[key]['neg_pred']].iloc[:,0])\n",
    "    print(f\"For {key}\")\n",
    "    print(f\"Mean error: {np.mean(results_dict[key]['error'])}\")\n",
    "    print(f\"Max error: {np.max(results_dict[key]['error'])}\")\n",
    "    print(f\"Min error: {np.min(results_dict[key]['error'])}\")\n",
    "    print(results_dict[key][results_dict[key]['neg_pred']])"
   ]
  },
  {
   "cell_type": "code",
   "execution_count": 176,
   "id": "ae8c602a-1fda-46e3-9056-5b1731a56272",
   "metadata": {},
   "outputs": [],
   "source": [
    "k5_bool = [gene.decode() in neg_pred_dict['K562'] for gene in K562_h5['ensid']]\n",
    "k5_rna_signals = K562_h5['rna'][:][k5_bool]\n",
    "\n",
    "gm_bool = [gene.decode() in neg_pred_dict['GM12878'] for gene in K562_h5['ensid']]\n",
    "gm_rna_signals = GM12878_h5['rna'][:][gm_bool]"
   ]
  },
  {
   "cell_type": "code",
   "execution_count": null,
   "id": "f9bb72f4-420f-4990-8ff1-0321bb752624",
   "metadata": {},
   "outputs": [],
   "source": [
    "for signal in gm_rna_signals:\n",
    "    plt.plot(signal)\n",
    "    plt.show()"
   ]
  },
  {
   "cell_type": "markdown",
   "id": "b8df8a88-f2f8-4fcc-8fc6-85f31784060d",
   "metadata": {},
   "source": [
    "---\n",
    "## Getting RNA signals for TSSs where error < 0.01 "
   ]
  },
  {
   "cell_type": "code",
   "execution_count": 183,
   "id": "a9899f39-747b-4c68-9d50-1edd701156d9",
   "metadata": {},
   "outputs": [
    {
     "name": "stdout",
     "output_type": "stream",
     "text": [
      "              Unnamed: 0      Pred    actual  fold_idx     error  neg_pred  \\\n",
      "6        ENSG00000116183 -0.002844  0.000000         1  0.002844      True   \n",
      "326    ENSG00000174606_1  2.167054  2.168792         1  0.001738     False   \n",
      "335      ENSG00000271252  0.006273  0.000000         1  0.006273     False   \n",
      "337    ENSG00000082512_1  1.676264  1.670793         1  0.005471     False   \n",
      "534    ENSG00000120334_1  2.910146  2.917038         1  0.006892     False   \n",
      "...                  ...       ...       ...       ...       ...       ...   \n",
      "27629  ENSG00000107104_1  1.762994  1.771440        12  0.008447     False   \n",
      "27642    ENSG00000233016  2.703006  2.694162        12  0.008844     False   \n",
      "27978    ENSG00000189159  1.041013  1.034388        12  0.006625     False   \n",
      "28155    ENSG00000157637  1.204168  1.198575        12  0.005593     False   \n",
      "28191  ENSG00000141576_1  2.071029  2.061901        12  0.009128     False   \n",
      "\n",
      "       low_error  \n",
      "6           True  \n",
      "326         True  \n",
      "335         True  \n",
      "337         True  \n",
      "534         True  \n",
      "...          ...  \n",
      "27629       True  \n",
      "27642       True  \n",
      "27978       True  \n",
      "28155       True  \n",
      "28191       True  \n",
      "\n",
      "[565 rows x 7 columns]\n",
      "              Unnamed: 0      Pred    actual  fold_idx     error  neg_pred  \\\n",
      "13       ENSG00000188770  0.006032  0.000000         1  0.006032     False   \n",
      "31     ENSG00000152061_1  0.008561  0.000000         1  0.008561     False   \n",
      "133    ENSG00000132849_1 -0.009830  0.000000         1  0.009830      True   \n",
      "161      ENSG00000243062  0.005946  0.000000         1  0.005946     False   \n",
      "179    ENSG00000162641_1 -0.001456  0.000000         1  0.001456      True   \n",
      "...                  ...       ...       ...       ...       ...       ...   \n",
      "27726  ENSG00000119403_1  2.604556  2.595490        12  0.009066     False   \n",
      "27774    ENSG00000172123  1.346780  1.355233        12  0.008453     False   \n",
      "28044    ENSG00000198887  2.594986  2.593487        12  0.001500     False   \n",
      "28100    ENSG00000159184  0.943679  0.938440        12  0.005239     False   \n",
      "28290  ENSG00000182963_1  1.226895  1.219768        12  0.007127     False   \n",
      "\n",
      "       low_error  \n",
      "13          True  \n",
      "31          True  \n",
      "133         True  \n",
      "161         True  \n",
      "179         True  \n",
      "...          ...  \n",
      "27726       True  \n",
      "27774       True  \n",
      "28044       True  \n",
      "28100       True  \n",
      "28290       True  \n",
      "\n",
      "[526 rows x 7 columns]\n"
     ]
    }
   ],
   "source": [
    "low_error_dict = {}\n",
    "low_error_dict['K562'] = []\n",
    "low_error_dict['GM12878'] = []\n",
    "\n",
    "for key in results_dict.keys():\n",
    "    results_dict[key]['low_error'] = results_dict[key]['error'] < .01\n",
    "    low_error_dict[key] = list(results_dict[key][results_dict[key]['low_error']].iloc[:,0])\n",
    "    print(results_dict[key][results_dict[key]['low_error']])"
   ]
  },
  {
   "cell_type": "code",
   "execution_count": 1,
   "id": "6be44825-134a-4594-b210-0db55f186bb0",
   "metadata": {},
   "outputs": [
    {
     "ename": "NameError",
     "evalue": "name 'K562_h5' is not defined",
     "output_type": "error",
     "traceback": [
      "\u001b[0;31m---------------------------------------------------------------------------\u001b[0m",
      "\u001b[0;31mNameError\u001b[0m                                 Traceback (most recent call last)",
      "Cell \u001b[0;32mIn[1], line 1\u001b[0m\n\u001b[0;32m----> 1\u001b[0m k5_bool \u001b[38;5;241m=\u001b[39m [gene\u001b[38;5;241m.\u001b[39mdecode() \u001b[38;5;129;01min\u001b[39;00m low_error_dict[\u001b[38;5;124m'\u001b[39m\u001b[38;5;124mK562\u001b[39m\u001b[38;5;124m'\u001b[39m] \u001b[38;5;28;01mfor\u001b[39;00m gene \u001b[38;5;129;01min\u001b[39;00m \u001b[43mK562_h5\u001b[49m[\u001b[38;5;124m'\u001b[39m\u001b[38;5;124mensid\u001b[39m\u001b[38;5;124m'\u001b[39m]]\n\u001b[1;32m      2\u001b[0m k5_rna_signals \u001b[38;5;241m=\u001b[39m K562_h5[\u001b[38;5;124m'\u001b[39m\u001b[38;5;124mrna\u001b[39m\u001b[38;5;124m'\u001b[39m][:][k5_bool]\n\u001b[1;32m      4\u001b[0m gm_bool \u001b[38;5;241m=\u001b[39m [gene\u001b[38;5;241m.\u001b[39mdecode() \u001b[38;5;129;01min\u001b[39;00m low_error_dict[\u001b[38;5;124m'\u001b[39m\u001b[38;5;124mGM12878\u001b[39m\u001b[38;5;124m'\u001b[39m] \u001b[38;5;28;01mfor\u001b[39;00m gene \u001b[38;5;129;01min\u001b[39;00m K562_h5[\u001b[38;5;124m'\u001b[39m\u001b[38;5;124mensid\u001b[39m\u001b[38;5;124m'\u001b[39m]]\n",
      "\u001b[0;31mNameError\u001b[0m: name 'K562_h5' is not defined"
     ]
    }
   ],
   "source": [
    "k5_bool = [gene.decode() in low_error_dict['K562'] for gene in K562_h5['ensid']]\n",
    "k5_rna_signals = K562_h5['rna'][:][k5_bool]\n",
    "\n",
    "gm_bool = [gene.decode() in low_error_dict['GM12878'] for gene in K562_h5['ensid']]\n",
    "gm_rna_signals = GM12878_h5['rna'][:][gm_bool]"
   ]
  },
  {
   "cell_type": "code",
   "execution_count": null,
   "id": "5d95d206-8fd8-4b63-9524-586ef9674ed2",
   "metadata": {},
   "outputs": [],
   "source": [
    "for signal in gm_rna_signals:\n",
    "    plt.plot(signal)\n",
    "    plt.show()"
   ]
  },
  {
   "cell_type": "code",
   "execution_count": null,
   "id": "3f1ecad2-6542-4b06-a8b2-58db38ea16a0",
   "metadata": {},
   "outputs": [],
   "source": []
  }
 ],
 "metadata": {
  "kernelspec": {
   "display_name": "EPInformer_env",
   "language": "python",
   "name": "epinformer_env"
  },
  "language_info": {
   "codemirror_mode": {
    "name": "ipython",
    "version": 3
   },
   "file_extension": ".py",
   "mimetype": "text/x-python",
   "name": "python",
   "nbconvert_exporter": "python",
   "pygments_lexer": "ipython3",
   "version": "3.8.20"
  }
 },
 "nbformat": 4,
 "nbformat_minor": 5
}
