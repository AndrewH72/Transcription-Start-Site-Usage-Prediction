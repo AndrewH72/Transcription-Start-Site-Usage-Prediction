{
 "cells": [
  {
   "cell_type": "code",
   "execution_count": null,
   "id": "6bcd0120",
   "metadata": {},
   "outputs": [],
   "source": [
    "\"\"\"\n",
    "TODO: \n",
    "CAGE & XPRESSO: MERGE ON CHROMOSOME AND TSS (TSS_xpresso from Xpresso csv)\n",
    "\"\"\"\n"
   ]
  },
  {
   "cell_type": "code",
   "execution_count": 2,
   "id": "d8ffc439",
   "metadata": {},
   "outputs": [],
   "source": [
    "import sys\n",
    "sys.path.append(\"/home/coder/diffTSS\")"
   ]
  },
  {
   "cell_type": "code",
   "execution_count": 3,
   "id": "8017ee09",
   "metadata": {},
   "outputs": [],
   "source": [
    "import os\n",
    "import re\n",
    "import glob\n",
    "import kipoiseq\n",
    "import numpy as np\n",
    "import pandas as pd\n",
    "import polars as pl\n",
    "from tqdm import tqdm\n",
    "from scipy import stats\n",
    "import matplotlib.pyplot as plt\n",
    "from scripts.utils import FastaStringExtractor, one_hot_encode"
   ]
  },
  {
   "cell_type": "code",
   "execution_count": 4,
   "id": "5beab21d",
   "metadata": {},
   "outputs": [],
   "source": [
    "strand_pairs = {\n",
    "    # GM12878\n",
    "    \"ENCFF074SXQ\": \"ENCFF164VLA\", \n",
    "    \"ENCFF546NVF\": \"ENCFF182LTN\", \n",
    "    \"ENCFF078ATR\": \"ENCFF037DUE\", \n",
    "    \"ENCFF892WMR\": \"ENCFF985TNZ\", \n",
    "\n",
    "    # K562\n",
    "    \"ENCFF829PNJ\": \"ENCFF336COA\", \n",
    "    \"ENCFF964BAP\": \"ENCFF006DQI\", \n",
    "    \"ENCFF777EAJ\": \"ENCFF040DXX\", \n",
    "    \"ENCFF528VFJ\": \"ENCFF097ASF\", \n",
    "}"
   ]
  },
  {
   "cell_type": "code",
   "execution_count": 92,
   "id": "78eb381c",
   "metadata": {},
   "outputs": [],
   "source": [
    "data = os.listdir(\"/home/coder/data/RNASeq_bw\")\n",
    "tab_files = sorted([file for file in data if file.endswith(\".tab\") and \"gene_added\" not in file], key=lambda x: (x[x.find(\".\") + 1], x[0]))\n",
    "tab_files = tab_files[0:16] + tab_files[24:32]\n",
    "coverage_files = sorted([file for file in data if file.endswith(\".txt\")], key=lambda x: (x[x.find(\".\") + 1], x[0]))\n",
    "\n",
    "combined_data = [file for file in glob.glob1(\"/home/coder/data/RNASeq_bw\", \"*stranded*\") if \"unstranded\" not in file]\n",
    "combined_tab_files = [file for file in combined_data if file.endswith(\".tab\")]\n",
    "combined_coverage_files = [file for file in combined_data if file.endswith(\".txt\")]\n",
    "\n",
    "combined_tab_files_names = [file[ :file.find(\"_\")] for file in combined_tab_files]\n",
    "combined_tab_files_name_sorted = sorted(combined_tab_files, key=lambda x: x[0])\n",
    "combined_tab_files_cell_line_sorted = sorted(combined_tab_files, key=lambda x: x[0])\n",
    "\n",
    "stranded_tab_files = [file for file in tab_files if \"unstranded\" not in file]\n",
    "cell_line_sorted_files = sorted(tab_files, key=lambda x: x[0])\n",
    "\n",
    "unstranded_tab_files = sorted(glob.glob1(\"/home/coder/data/RNASeq_bw\", \"*unstranded*.tab\"), key=lambda x: x[0])\n",
    "stranded_unstranded_tab = sorted(combined_tab_files_cell_line_sorted + unstranded_tab_files, key=lambda x: x[0])\n",
    "\n",
    "all_types_tab = sorted(tab_files[:-8] + stranded_unstranded_tab, key=lambda x: (x[0], x[x.find(\".\") + 1: x.find(\".\") + 2]))\n",
    "\n",
    "gene_added_files = glob.glob(\"gene_added*\", root_dir=\"/home/coder/data/RNASeq_bw\")"
   ]
  },
  {
   "cell_type": "markdown",
   "id": "fb39d476",
   "metadata": {},
   "source": [
    "## TAB FILES"
   ]
  },
  {
   "cell_type": "code",
   "execution_count": null,
   "id": "de9ab70b",
   "metadata": {},
   "outputs": [
    {
     "data": {
      "text/plain": [
       "<Figure size 640x480 with 0 Axes>"
      ]
     },
     "metadata": {},
     "output_type": "display_data"
    }
   ],
   "source": [
    "# Plotting the plus and minus genes for each .tab file.\n",
    "for file in tab_files:\n",
    "    file_name = file[ :file.find(\"_\")]\n",
    "    df = pd.DataFrame(pl.read_csv(f\"/home/coder/data/RNASeq_bw/{file}\", separator=\"\\t\", skip_rows=3))\n",
    "\n",
    "    # Distribution of Averaged Values\n",
    "    df.mean().plot(kind=\"line\")\n",
    "    plt.xticks(range(0, 125, 5))\n",
    "    plt.xlabel(\"Bins\")\n",
    "    plt.ylabel(\"Averaged Value\")\n",
    "    plt.title(f\"Distribution of Averaged Bins for {file_name}\")\n",
    "    plt.savefig(f\"/home/coder/REU/plots/dist_sample/{file_name}_averaged_values.png\")\n",
    "    plt.clf()"
   ]
  },
  {
   "cell_type": "code",
   "execution_count": 102,
   "id": "8795bb87",
   "metadata": {},
   "outputs": [
    {
     "data": {
      "text/plain": [
       "<Figure size 640x480 with 0 Axes>"
      ]
     },
     "metadata": {},
     "output_type": "display_data"
    }
   ],
   "source": [
    "# Plotting the combined plus and minus strands for each .tab file.\n",
    "for file in combined_tab_files:\n",
    "    file_name = file[ :file.find(\"_\")]\n",
    "    df = pd.DataFrame(pl.read_csv(f\"/home/coder/data/RNASeq_bw/{file}\", separator=\"\\t\", skip_rows=3)).iloc[ :, :125]\n",
    "\n",
    "    # Distribution of Summed Values\n",
    "    df.sum().plot(kind=\"line\")\n",
    "    plt.xticks(range(0, 125, 5))\n",
    "    plt.xlabel(\"Bins\")\n",
    "    plt.ylabel(\"Summed Value\")\n",
    "    plt.title(f\"Distribution of Summed Bins for {file_name}\", fontsize=9)\n",
    "    plt.savefig(f\"/home/coder/REU/plots/{file_name}.paired_summed_values.png\")\n",
    "    plt.clf()\n",
    "\n",
    "    # Distribution of Averaged Values\n",
    "    df.mean().plot(kind=\"line\")\n",
    "    plt.xticks(range(0, 125, 5))\n",
    "    plt.xlabel(\"Bins\")\n",
    "    plt.ylabel(\"Averaged Value\")\n",
    "    plt.title(f\"Distribution of Averaged Bins for {file_name}\", fontsize=9)\n",
    "    plt.savefig(f\"/home/coder/REU/plots/dist_combined/{file_name}.paired_averaged_values.png\")\n",
    "    plt.clf()"
   ]
  },
  {
   "cell_type": "code",
   "execution_count": 99,
   "id": "f7899e53",
   "metadata": {},
   "outputs": [
    {
     "data": {
      "text/plain": [
       "<Figure size 640x480 with 0 Axes>"
      ]
     },
     "metadata": {},
     "output_type": "display_data"
    },
    {
     "data": {
      "text/plain": [
       "<Figure size 640x480 with 0 Axes>"
      ]
     },
     "metadata": {},
     "output_type": "display_data"
    },
    {
     "data": {
      "text/plain": [
       "<Figure size 640x480 with 0 Axes>"
      ]
     },
     "metadata": {},
     "output_type": "display_data"
    },
    {
     "data": {
      "text/plain": [
       "<Figure size 640x480 with 0 Axes>"
      ]
     },
     "metadata": {},
     "output_type": "display_data"
    }
   ],
   "source": [
    "# Plotting the average of each cell line and each strand type for .tab files.\n",
    "for i in range(4):\n",
    "    fig = plt.figure()\n",
    "    same_strands = stranded_tab_files[i * 4: i * 4 + 4]\n",
    "    strand_type = re.search(r\"m[a-z]+|p[a-z]+\", same_strands[0]).group(0)\n",
    "    cell_line = same_strands[0][ :same_strands[0].find(\".\")]\n",
    "    for file in same_strands:\n",
    "        file_name = file[file.find(\"E\"): file.find(\"_\")]\n",
    "        df = pd.DataFrame(pl.read_csv(f\"/home/coder/data/RNASeq_bw/{file}\", separator=\"\\t\", skip_rows=3))\n",
    "        plt.plot(df.columns, df.mean(), label=file_name)\n",
    "\n",
    "    plt.xticks(range(0, 125, 5))\n",
    "    plt.xlabel(\"Bins\")\n",
    "    plt.ylabel(\"Averaged Value\")\n",
    "    plt.legend()\n",
    "    plt.title(f\"Distribution of Averaged Bins for {cell_line}.{strand_type}\")\n",
    "    plt.savefig(f\"/home/coder/REU/plots/dist_sample_strand/{cell_line}.{strand_type}.averaged_values.png\")\n",
    "    plt.clf()"
   ]
  },
  {
   "cell_type": "code",
   "execution_count": 98,
   "id": "7cf78d22",
   "metadata": {},
   "outputs": [
    {
     "data": {
      "text/plain": [
       "<Figure size 640x480 with 0 Axes>"
      ]
     },
     "metadata": {},
     "output_type": "display_data"
    }
   ],
   "source": [
    "# Plotting the averaged values for each cell line.\n",
    "for i in range(2):\n",
    "    same_cell_lines = cell_line_sorted_files[i * 12: i * 12 + 12]\n",
    "    cell_line = same_cell_lines[0][ :same_cell_lines[0].find(\".\")]\n",
    "    for file in same_cell_lines:\n",
    "        file_name = file[ :file.find(\"_\")]\n",
    "        df = pd.DataFrame(pl.read_csv(f\"/home/coder/data/RNASeq_bw/{file}\", separator=\"\\t\", skip_rows=3))\n",
    "        plt.plot(df.columns, df.mean(), label=file_name)\n",
    "        \n",
    "    plt.xticks(range(0, 125, 5))\n",
    "    plt.xlabel(\"Bins\")\n",
    "    plt.ylabel(\"Averaged Value\")\n",
    "    plt.legend(fontsize=7)\n",
    "    plt.title(f\"Distribution of Averaged Bins for {cell_line}\")\n",
    "    plt.savefig(f\"/home/coder/REU/plots/dist_sample_cell_line/{cell_line}.averaged_values.png\")\n",
    "    plt.clf()"
   ]
  },
  {
   "cell_type": "code",
   "execution_count": 97,
   "id": "f425df0d",
   "metadata": {},
   "outputs": [
    {
     "data": {
      "text/plain": [
       "['GM12878.minus.ENCFF074SXQ_values_TSS.tab',\n",
       " 'GM12878.minus.ENCFF078ATR_values_TSS.tab',\n",
       " 'GM12878.minus.ENCFF546NVF_values_TSS.tab',\n",
       " 'GM12878.minus.ENCFF892WMR_values_TSS.tab',\n",
       " 'GM12878.plus.ENCFF037DUE_values_TSS.tab',\n",
       " 'GM12878.plus.ENCFF164VLA_values_TSS.tab',\n",
       " 'GM12878.plus.ENCFF182LTN_values_TSS.tab',\n",
       " 'GM12878.plus.ENCFF985TNZ_values_TSS.tab',\n",
       " 'GM12878.unstranded.ENCFF104OTO_values_TSS.tab',\n",
       " 'GM12878.unstranded.ENCFF395OHI_values_TSS.tab',\n",
       " 'GM12878.unstranded.ENCFF155XJQ_values_TSS.tab',\n",
       " 'GM12878.unstranded.ENCFF143BSQ_values_TSS.tab',\n",
       " 'K562.minus.ENCFF528VFJ_values_TSS.tab',\n",
       " 'K562.minus.ENCFF829PNJ_values_TSS.tab',\n",
       " 'K562.minus.ENCFF964BAP_values_TSS.tab',\n",
       " 'K562.minus.ENCFF777EAJ_values_TSS.tab',\n",
       " 'K562.plus.ENCFF006DQI_values_TSS.tab',\n",
       " 'K562.plus.ENCFF097ASF_values_TSS.tab',\n",
       " 'K562.plus.ENCFF336COA_values_TSS.tab',\n",
       " 'K562.plus.ENCFF040DXX_values_TSS.tab',\n",
       " 'K562.unstranded.ENCFF448XCV_values_TSS.tab',\n",
       " 'K562.unstranded.ENCFF451LAH_values_TSS.tab',\n",
       " 'K562.unstranded.ENCFF990XSY_values_TSS.tab',\n",
       " 'K562.unstranded.ENCFF610CIC_values_TSS.tab']"
      ]
     },
     "execution_count": 97,
     "metadata": {},
     "output_type": "execute_result"
    }
   ],
   "source": [
    "cell_line_sorted_files"
   ]
  },
  {
   "cell_type": "code",
   "execution_count": 95,
   "id": "5e35d30b",
   "metadata": {},
   "outputs": [
    {
     "data": {
      "text/plain": [
       "<Figure size 640x480 with 0 Axes>"
      ]
     },
     "metadata": {},
     "output_type": "display_data"
    }
   ],
   "source": [
    "# Plotting file types (plus, minus, stranded, unstranded) against each other.\n",
    "for i in range(2):\n",
    "    same_cell_line = all_types_tab[i * 16: i * 16 + 16]\n",
    "    cell_line = same_cell_line[0][ :same_cell_line[0].find(\".\")]\n",
    "    for i in range(4):\n",
    "        same_type_df = pd.DataFrame()\n",
    "        same_type = same_cell_line[i * 4: i * 4 + 4]\n",
    "        file_type = same_type[0][same_type[0].find(\".\") + 1: same_type[0].find(\"E\") - 1].upper()\n",
    "\n",
    "        for file in same_type:\n",
    "            if file_type == \"STRANDED\":\n",
    "                file_df = pd.read_csv(f\"/home/coder/data/RNASeq_bw/{file}\", sep=\"\\t\").iloc[:, :125]\n",
    "            else:\n",
    "                file_df = pd.read_csv(f\"/home/coder/data/RNASeq_bw/{file}\", sep=\"\\t\", skiprows=3, header=None)\n",
    "            same_type_df = pd.concat([same_type_df, file_df])\n",
    "        plt.plot(same_type_df.columns, same_type_df.mean(), label=file_type)\n",
    "    plt.xticks(range(0, 125, 10))\n",
    "    plt.xlabel(\"Bins\")\n",
    "    plt.ylabel(\"Average RNA Seq Value\")\n",
    "    plt.title(f\"Minus vs Plus vs Stranded vs Unstranded for {cell_line}\")\n",
    "    plt.legend()\n",
    "    plt.savefig(f\"/home/coder/REU/plots/dist_type/{cell_line}.types.png\")\n",
    "    plt.clf()"
   ]
  },
  {
   "cell_type": "code",
   "execution_count": 91,
   "id": "584b6a0b",
   "metadata": {},
   "outputs": [
    {
     "data": {
      "text/plain": [
       "<Figure size 640x480 with 0 Axes>"
      ]
     },
     "metadata": {},
     "output_type": "display_data"
    }
   ],
   "source": [
    "# Plotting the averaged values for each combined cell line.\n",
    "for i in range(2):\n",
    "    same_cell_lines = stranded_unstranded_tab[i * 8: i * 8 + 8]\n",
    "    cell_line = same_cell_lines[0][ :same_cell_lines[0].find(\".\")]\n",
    "    for file in same_cell_lines:\n",
    "        file_name = file[ :file.find(\"_\")]\n",
    "        df = pd.DataFrame(pl.read_csv(f\"/home/coder/data/RNASeq_bw/{file}\", separator=\"\\t\", skip_rows=3))\n",
    "        if \"unstranded\" in file:\n",
    "            plt.plot(df.columns, df.mean(), linestyle=\"dotted\", label=file_name)\n",
    "        else:\n",
    "            plt.plot(df.columns, df.mean(), linestyle=\"solid\", label=file_name)\n",
    "        \n",
    "    plt.xticks(range(0, 125, 5))\n",
    "    plt.xlabel(\"Bins\")\n",
    "    plt.ylabel(\"Averaged Value\")\n",
    "    plt.legend(fontsize=6)\n",
    "    plt.title(f\"Distribution of Averaged Bins for {cell_line}\", fontsize=9)\n",
    "    plt.savefig(f\"/home/coder/REU/plots/dist_stranded_cell_line/{cell_line}.paired.averaged_values.png\")\n",
    "    plt.clf()"
   ]
  },
  {
   "cell_type": "code",
   "execution_count": 67,
   "id": "c32fb600",
   "metadata": {},
   "outputs": [
    {
     "data": {
      "text/plain": [
       "<Figure size 640x480 with 0 Axes>"
      ]
     },
     "metadata": {},
     "output_type": "display_data"
    }
   ],
   "source": [
    "# Plotting the average of each stranded pair.\n",
    "for i in range(len(stranded_tab_files) // 2):\n",
    "    minus_name = re.search(r\"E[a-zA-Z0-9]+\", stranded_tab_files[i]).group(0)\n",
    "    cell_line = stranded_tab_files[i][ :stranded_tab_files[i].find(\".\")]\n",
    "    for j in range(len(stranded_tab_files) // 2, len(stranded_tab_files)):\n",
    "        plus_name = re.search(r\"E[a-zA-Z0-9]+\", stranded_tab_files[j]).group(0)\n",
    "\n",
    "        if strand_pairs[minus_name] == plus_name:\n",
    "            minus_strand = pd.DataFrame(pl.read_csv(f\"/home/coder/data/RNASeq_bw/{stranded_tab_files[i]}\", separator=\"\\t\", skip_rows=3))\n",
    "            plus_strand = pd.DataFrame(pl.read_csv(f\"/home/coder/data/RNASeq_bw/{stranded_tab_files[j]}\", separator=\"\\t\", skip_rows=3))\n",
    "\n",
    "            plt.plot(minus_strand.columns, minus_strand.mean(), label=minus_name, color=\"blue\")\n",
    "            plt.plot(plus_strand.columns, plus_strand.mean(), label=plus_name, color=\"orange\")\n",
    "\n",
    "            plt.xticks(range(0, 125, 5))\n",
    "            plt.xlabel(\"Bins\")\n",
    "            plt.ylabel(\"Averaged Value\")\n",
    "            plt.legend()\n",
    "            plt.title(f\"Distribution of Averaged Bins for {cell_line} Strand Pair: {plus_name} and {minus_name}\", fontsize=9)\n",
    "            plt.savefig(f\"/home/coder/REU/plots/plus_vs_minus_strand/{cell_line}.{plus_name}.{minus_name}.averaged_values.png\")\n",
    "            plt.clf()"
   ]
  },
  {
   "cell_type": "code",
   "execution_count": 66,
   "id": "88bf1f20",
   "metadata": {},
   "outputs": [
    {
     "data": {
      "text/plain": [
       "<Figure size 640x480 with 0 Axes>"
      ]
     },
     "metadata": {},
     "output_type": "display_data"
    }
   ],
   "source": [
    "for file in gene_added_files:\n",
    "    file_name = file[file.find(\"d\") + 5: file.find(\"v\") - 1]\n",
    "    gene_added_df = pd.read_csv(f\"/home/coder/data/RNASeq_bw/{file}\", sep=\"\\t\", skiprows=3, header=None)\n",
    "    tss_bed = pd.read_csv(\"/home/coder/data/TSS.bed\", sep=\"\\t\", skiprows=1, header=None)\n",
    "\n",
    "    gene_added_df[\"+/-\"] = tss_bed[5]\n",
    "    gene_added_plus = gene_added_df[gene_added_df[\"+/-\"] == \"+\"]\n",
    "    gene_added_minus = gene_added_df[gene_added_df[\"+/-\"] == \"-\"]\n",
    "\n",
    "    plt.plot(range(0, 125), gene_added_minus.iloc[:, 1:126].mean(), label=\"Minus\", color=\"blue\")\n",
    "    plt.plot(range(0, 125), gene_added_plus.iloc[:, 1:126].mean(), label=\"Plus\", color=\"orange\")\n",
    "    plt.xlabel(\"Bins\")\n",
    "    plt.ylabel(\"Average RNA Seq Value\")\n",
    "    plt.title(f\"Plus vs Minus Strands for {file_name}\")\n",
    "    plt.legend()\n",
    "    plt.savefig(f\"/home/coder/REU/plots/plus_vs_minus_binned/{file_name}.plus_minus_average_binned.png\")\n",
    "    plt.clf()"
   ]
  },
  {
   "cell_type": "code",
   "execution_count": 61,
   "id": "4313d2a6",
   "metadata": {},
   "outputs": [
    {
     "name": "stderr",
     "output_type": "stream",
     "text": [
      "File: 100%|██████████| 8/8 [00:05<00:00,  1.57it/s]\n"
     ]
    },
    {
     "data": {
      "text/plain": [
       "<Figure size 640x480 with 0 Axes>"
      ]
     },
     "metadata": {},
     "output_type": "display_data"
    }
   ],
   "source": [
    "# Plotting the sum of the 3 bins around the TSS vs each gene.\n",
    "\n",
    "GM12878_files = []\n",
    "K562_files = []\n",
    "\n",
    "GM12878_gene_list = pd.read_csv(\"/home/coder/data/ABC-multiTSS_nominated/GM12878/Neighborhoods/GeneList.txt\", sep=\"\\t\")\n",
    "K562_gene_list = pd.read_csv(\"/home/coder/data/ABC-multiTSS_nominated/K562/Neighborhoods/GeneList.txt\", sep=\"\\t\")\n",
    "rna_cage = pd.read_csv(\"/home/coder/data/RNA_CAGE.txt\", sep=\"\\t\")\n",
    "\n",
    "with pd.option_context(\"mode.chained_assignment\", None):\n",
    "    for file in tqdm(combined_tab_files, desc=\"File\"):\n",
    "        file_name = file[ :file.find(\"_\")]\n",
    "        cell_line = file[ :file.find(\".\")]\n",
    "        gene_list = None\n",
    "\n",
    "        if cell_line == \"K562\":\n",
    "            gene_list = K562_gene_list\n",
    "        elif cell_line == \"GM12878\":\n",
    "            gene_list = GM12878_gene_list\n",
    "\n",
    "        df = pd.read_csv(f\"/home/coder/data/RNASeq_bw/{file}\", sep=\"\\t\", skiprows=3, header=None)\n",
    "\n",
    "        # Summing across the 3 bins surround the TSS.\n",
    "        # df_tss = df.iloc[:, 62:65]\n",
    "        # df_tss.loc[:, \"ENSID\"] = gene_list.loc[:, \"Ensembl_ID\"]\n",
    "        # df_tss.loc[:, \"Sum\"] = df_tss.iloc[:, 0:3].sum(axis=1)\n",
    "        # reorder = list(df_tss)[-2:-1] + list(df_tss)[:-2] + list(df_tss)[-1:]\n",
    "        # df_tss = df_tss.loc[:, reorder]\n",
    "\n",
    "        # Summing from the TSS to the right of the sample.\n",
    "        df_tss = df.iloc[:, 62:]\n",
    "        df_tss.loc[:, \"ENSID\"] = gene_list.loc[:, \"Ensembl_ID\"]\n",
    "        df_tss.loc[:, \"Sum\"] = df_tss.iloc[:, :-1].sum(axis=1)\n",
    "        reorder = list(df_tss)[-2:-1] + list(df_tss)[:-2] + list(df_tss)[-1:]\n",
    "        df_tss = df_tss.loc[:, reorder]\n",
    "\n",
    "        if cell_line == \"K562\":\n",
    "            K562_files.append(df_tss.loc[:, \"Sum\"])\n",
    "        elif cell_line == \"GM12878\":\n",
    "            GM12878_files.append(df_tss.loc[:, \"Sum\"])\n",
    "\n",
    "        plt.plot(range(len(df_tss)), df_tss.loc[: ,\"Sum\"])\n",
    "        plt.xlabel(\"Gene\")\n",
    "        plt.ylabel(\"Sum of Bins\")\n",
    "        plt.title(\"Genes vs Sum of the TSS and the Bins to the Right\")\n",
    "        plt.savefig(f\"/home/coder/REU/plots/dist_of_3tss_sum/{file_name}.sum_of_3tss_bins.png\")\n",
    "        plt.clf()"
   ]
  },
  {
   "cell_type": "markdown",
   "id": "a763d105",
   "metadata": {},
   "source": [
    "### Correlation"
   ]
  },
  {
   "cell_type": "code",
   "execution_count": 60,
   "id": "43e6eec4",
   "metadata": {},
   "outputs": [
    {
     "data": {
      "text/plain": [
       "<Figure size 640x480 with 0 Axes>"
      ]
     },
     "metadata": {},
     "output_type": "display_data"
    }
   ],
   "source": [
    "# Plotting the correlation values of each file and its ground truth value in RNA_CAGE.txt\n",
    "\n",
    "# Creating a dataframe that contains the 3-bin-sum for each file, the ENSID, and the ground truth value.\n",
    "gm12878 = pd.DataFrame(GM12878_files).T\n",
    "gm12878.insert(0, \"a\", GM12878_gene_list[\"Ensembl_ID\"])\n",
    "gm12878.columns = range(len(gm12878.columns))\n",
    "gm12878 = gm12878.merge(rna_cage, left_on=0, right_on=\"ENSID\", how=\"left\")\n",
    "gm12878 = gm12878.loc[:, (list(gm12878)[0:5] + list(gm12878)[7:8])]\n",
    "gm12878[\"GM12878_CAGE_128*3_sum\"] = gm12878[\"GM12878_CAGE_128*3_sum\"].astype(float).fillna(0)\n",
    "gm12878.to_csv(\"/home/coder/REU/csvs/gm12878.csv\", index=False)\n",
    "\n",
    "for col in gm12878.columns[1:5]:\n",
    "    file_name = combined_tab_files_name_sorted[int(col) - 1][ :combined_tab_files_name_sorted[int(col) - 1].find(\"_\")]\n",
    "    plt.scatter(gm12878[col], gm12878[\"GM12878_CAGE_128*3_sum\"])\n",
    "\n",
    "    plt.xscale(\"log\")\n",
    "    plt.yscale(\"log\")\n",
    "\n",
    "    plt.ylabel(\"Actual Value (Log)\")\n",
    "    plt.xlabel(\"Ground Truth (Log)\")\n",
    "    plt.title(f\"Scatter Plot for Correlation of {file_name} vs RNA_CAGE\", fontsize=8)\n",
    "    plt.savefig(f\"/home/coder/REU/plots/rnaseq_vs_rnacage/{file_name}.correlation_rna_cage_log.png\")\n",
    "    plt.clf()\n",
    "\n",
    "k562 = pd.DataFrame(K562_files).T\n",
    "k562.insert(0, \"a\", K562_gene_list[\"Ensembl_ID\"])\n",
    "k562.columns = range(len(k562.columns))\n",
    "k562 = k562.merge(rna_cage, left_on=0, right_on=\"ENSID\", how=\"left\")\n",
    "k562 = k562.loc[:, (list(k562)[0:5] + list(k562)[6:7])]\n",
    "k562[\"K562_CAGE_128*3_sum\"] = k562[\"K562_CAGE_128*3_sum\"].astype(float).fillna(0)\n",
    "k562.to_csv(\"/home/coder/REU/csvs/k562.csv\", index=False)\n",
    "\n",
    "for col in k562.columns[1:5]:\n",
    "    file_name = combined_tab_files_name_sorted[int(col) - 1 + 4][ :combined_tab_files_name_sorted[int(col) - 1 + 4].find(\"_\")]\n",
    "    plt.scatter(k562[col], k562[\"K562_CAGE_128*3_sum\"])\n",
    "\n",
    "    plt.yscale(\"log\")\n",
    "    plt.xscale(\"log\")\n",
    "\n",
    "    plt.ylabel(\"Actual Value (Log)\")\n",
    "    plt.xlabel(\"Ground Truth (Log)\")\n",
    "    plt.title(f\"Scatter Plot for Correlation of {file_name} vs RNA_CAGE\", fontsize=8)\n",
    "    plt.savefig(f\"/home/coder/REU/plots/rnaseq_vs_rnacage/{file_name}.correlation_rna_cage_log.png\")\n",
    "    plt.clf()"
   ]
  },
  {
   "cell_type": "code",
   "execution_count": 62,
   "id": "0d399b90",
   "metadata": {},
   "outputs": [
    {
     "name": "stdout",
     "output_type": "stream",
     "text": [
      "GM12878 Average PearsonR: 0.13537539028281445\n",
      "Average PValue: 4.208102991973101e-79\n",
      "K562 Average PearsonR: 0.14187766207637342\n",
      "Average PValue: 3.3351711137892027e-110\n"
     ]
    }
   ],
   "source": [
    "# Generating the dataframes for the correlation and p-value values (RNA Seq vs RNA Cage).\n",
    "GM12878_corr_df = pd.DataFrame()\n",
    "for col in gm12878.columns[1:5]:\n",
    "    pearson_r_values = stats.pearsonr(np.log(gm12878[col] + 1), np.log(gm12878[\"GM12878_CAGE_128*3_sum\"] + 1))\n",
    "    # pearson_r_values = stats.pearsonr(gm12878[col], gm12878[\"GM12878_CAGE_128*3_sum\"])\n",
    "    GM12878_corr_df = pd.concat([GM12878_corr_df, pd.DataFrame(pearson_r_values).T])\n",
    "GM12878_corr_df = GM12878_corr_df.rename(columns={0: \"PearsonR\", 1: \"PValue\"})\n",
    "GM12878_corr_df[\"Sample\"] = [file for file in combined_tab_files_names if file[0] == \"G\"]\n",
    "GM12878_corr_df.to_csv(\"/home/coder/REU/csvs/correlation/rnaseq_vs_rnacage/GM12878.correlation_pvalue_log.csv\")\n",
    "\n",
    "# Pearson R: 0.14500713488288372\n",
    "# PValue: 1.2354172154320445e-17\n",
    "\n",
    "# Pearson R (Log): 0.13537539028281445\n",
    "# PValue (Log): 4.208102991973101e-79\n",
    "print(f\"GM12878 Average PearsonR: {GM12878_corr_df.iloc[:, 0:2].mean().iloc[0]}\\nAverage PValue: {GM12878_corr_df.iloc[:, 0:2].mean().iloc[1]}\")\n",
    "\n",
    "K562_corr_df = pd.DataFrame()\n",
    "for col in k562.columns[1:5]:\n",
    "    pearson_r_values = stats.pearsonr(np.log(k562[col] + 1), np.log(k562[\"K562_CAGE_128*3_sum\"] + 1))\n",
    "    K562_corr_df = pd.concat([K562_corr_df, pd.DataFrame(pearson_r_values).T])\n",
    "K562_corr_df = K562_corr_df.rename(columns={0: \"PearsonR\", 1: \"PValue\"})\n",
    "K562_corr_df[\"Sample\"] = [file for file in combined_tab_files_names if file[0] == \"K\"]\n",
    "\n",
    "K562_corr_df.to_csv(\"/home/coder/REU/csvs/correlation/rnaseq_vs_rnacage/K562.correlation_pvalue_log.csv\")\n",
    "\n",
    "# Pearson R: 0.24022424698280365\n",
    "# PValue: 8.614336307937462e-100\n",
    "\n",
    "# Pearson R (Log): 0.14187766207637342\n",
    "# PValue (Log): 3.3351711137892027e-110 \n",
    "print(f\"K562 Average PearsonR: {K562_corr_df.iloc[:, 0:2].mean().iloc[0]}\\nAverage PValue: {K562_corr_df.iloc[:, 0:2].mean().iloc[1]}\")"
   ]
  },
  {
   "cell_type": "code",
   "execution_count": 64,
   "id": "bcd18fc5",
   "metadata": {},
   "outputs": [
    {
     "data": {
      "text/plain": [
       "<Figure size 640x480 with 0 Axes>"
      ]
     },
     "metadata": {},
     "output_type": "display_data"
    }
   ],
   "source": [
    "# Plotting RNA Cage vs Xpresso\n",
    "rna_cage = pd.read_csv(\"/home/coder/data/RNA_CAGE.txt\", sep=\"\\t\")\n",
    "xpresso = pd.read_csv(\"/home/coder/data/GM12878_K562_18377_gene_expr_fromXpresso.csv\")\n",
    "\n",
    "epi_xpresso = rna_cage.merge(xpresso, left_on=\"ENSID\", right_on=\"gene_id\", how=\"inner\")\n",
    "epi_xpresso = epi_xpresso.loc[:, (list(epi_xpresso)[0:3] + list(epi_xpresso)[-7:-6] + list(epi_xpresso)[-5:-4])]\n",
    "epi_xpresso.iloc[:, 1:5] = epi_xpresso.iloc[:, 1:5].astype(float).fillna(0)\n",
    "\n",
    "cage_xpresso = pd.DataFrame()\n",
    "\n",
    "plt.scatter(epi_xpresso[\"GM12878_CAGE_128*3_sum_y\"], epi_xpresso[\"GM12878_CAGE_128*3_sum_x\"])\n",
    "plt.xlabel(\"Xpresso Values (Log)\")\n",
    "\n",
    "plt.yscale(\"log\")\n",
    "plt.xscale(\"log\")\n",
    "\n",
    "plt.ylabel(\"RNA Cage Values (Log)\")\n",
    "plt.title(\"GM12878 Xpresso vs RNA Cage Values (Log)\")\n",
    "plt.savefig(\"/home/coder/REU/plots/rnacage_vs_xpresso/GM12878.rna_cage_xpresso_inner_log.png\")\n",
    "plt.clf()\n",
    "\n",
    "corr = stats.pearsonr(np.log(epi_xpresso[\"GM12878_CAGE_128*3_sum_y\"] + 1), np.log(epi_xpresso[\"GM12878_CAGE_128*3_sum_x\"] + 1))\n",
    "cage_xpresso = pd.concat([cage_xpresso, pd.DataFrame(corr).T])\n",
    "\n",
    "plt.scatter(epi_xpresso[\"K562_CAGE_128*3_sum_y\"], epi_xpresso[\"K562_CAGE_128*3_sum_x\"])\n",
    "plt.xlabel(\"Xpresso Values (Log)\")\n",
    "\n",
    "plt.xscale(\"log\")\n",
    "plt.yscale(\"log\")\n",
    "\n",
    "plt.ylabel(\"RNA Cage Values (Log)\")\n",
    "plt.title(\"K562 Xpresso vs RNA Cage Values (Log)\")\n",
    "plt.savefig(\"/home/coder/REU/plots/rnacage_vs_xpresso/K562.rna_cage_xpresso_inner_log.png\")\n",
    "plt.clf()\n",
    "\n",
    "corr = stats.pearsonr(np.log(epi_xpresso[\"K562_CAGE_128*3_sum_y\"] + 1), np.log(epi_xpresso[\"K562_CAGE_128*3_sum_x\"] + 1))\n",
    "cage_xpresso = pd.concat([cage_xpresso, pd.DataFrame(corr).T])\n",
    "\n",
    "cage_xpresso.to_csv(\"/home/coder/REU/csvs/correlation/rnacage_vs_xpresso/cage_xpresso.correlation_inner_log.csv\", index=False)"
   ]
  },
  {
   "cell_type": "code",
   "execution_count": 65,
   "id": "22ae4777",
   "metadata": {},
   "outputs": [
    {
     "data": {
      "text/plain": [
       "<Figure size 640x480 with 0 Axes>"
      ]
     },
     "metadata": {},
     "output_type": "display_data"
    }
   ],
   "source": [
    "# Plotting RNA Seq vs Xpresso\n",
    "gm12878 = pd.read_csv(\"/home/coder/REU/csvs/gm12878.csv\")\n",
    "k562 = pd.read_csv(\"/home/coder/REU/csvs/k562.csv\")\n",
    "xpresso = pd.read_csv(\"/home/coder/data/GM12878_K562_18377_gene_expr_fromXpresso.csv\")\n",
    "\n",
    "gm_xpresso = gm12878.merge(xpresso, left_on=\"0\", right_on=\"gene_id\", how=\"inner\")\n",
    "gm_xpresso = gm_xpresso.loc[:, (list(gm_xpresso)[0:14] + list(gm_xpresso)[-5:-4])]\n",
    "gm_xpresso[\"GM12878_CAGE_128*3_sum_y\"] = gm_xpresso[\"GM12878_CAGE_128*3_sum_y\"].astype(float).fillna(0)\n",
    "\n",
    "k5_xpresso = k562.merge(xpresso, left_on=\"0\", right_on=\"gene_id\", how=\"inner\")\n",
    "k5_xpresso = k5_xpresso.loc[:, (list(k5_xpresso)[0:14] + list(k5_xpresso)[-7:-6])]\n",
    "k5_xpresso[\"K562_CAGE_128*3_sum_y\"] = k5_xpresso[\"K562_CAGE_128*3_sum_y\"].astype(float).fillna(0)\n",
    "\n",
    "gm_xpresso_correlation = pd.DataFrame()\n",
    "k5_xpresso_correlation = pd.DataFrame()\n",
    "\n",
    "for col in gm_xpresso.columns[1:5]:\n",
    "    file_name = combined_tab_files_name_sorted[int(col) - 1][ :combined_tab_files_name_sorted[int(col) - 1].find(\"_\")]\n",
    "\n",
    "    pearson_r_values = stats.pearsonr(np.log(gm_xpresso[\"GM12878_CAGE_128*3_sum_y\"] + 1), np.log(gm_xpresso[col] + 1))\n",
    "    gm_xpresso_correlation = pd.concat([gm_xpresso_correlation, pd.DataFrame(pearson_r_values).T])\n",
    "\n",
    "    plt.scatter(gm_xpresso[\"GM12878_CAGE_128*3_sum_y\"], gm_xpresso[col])\n",
    "    plt.xlabel(\"Xpresso Values (Log)\")\n",
    "\n",
    "    plt.xscale(\"log\")\n",
    "    plt.yscale(\"log\")\n",
    "\n",
    "    plt.ylabel(\"RNA Seq Values (Log)\")\n",
    "    plt.title(\"GM12878 Xpresso vs RNA Seq Values\")\n",
    "    plt.savefig(f\"/home/coder/REU/plots/rnaseq_vs_xpresso/{file_name}.rna_seq_xpresso_inner_log.png\")\n",
    "    plt.clf()\n",
    "\n",
    "gm_xpresso_correlation = gm_xpresso_correlation.rename(columns={0: \"PearsonR\", 1: \"PValue\"})\n",
    "gm_xpresso_correlation[\"Sample\"] = [file for file in combined_tab_files_names if file[0] == \"G\"]\n",
    "gm_xpresso_correlation.to_csv(\"/home/coder/REU/csvs/correlation/rnaseq_vs_xpresso/GM12878_Xpresso.correlation_pvalue_inner_log.csv\", index=False)\n",
    "\n",
    "for col in k5_xpresso.columns[1:5]:\n",
    "    file_name = combined_tab_files_name_sorted[int(col) - 1 + 4][ :combined_tab_files_name_sorted[int(col) - 1 + 4].find(\"_\")]\n",
    "\n",
    "    pearson_r_values = stats.pearsonr(np.log(k5_xpresso[\"K562_CAGE_128*3_sum_y\"] + 1), np.log(k5_xpresso[col] + 1))\n",
    "    k5_xpresso_correlation = pd.concat([k5_xpresso_correlation, pd.DataFrame(pearson_r_values).T])\n",
    "\n",
    "    plt.scatter(k5_xpresso[\"K562_CAGE_128*3_sum_y\"], k5_xpresso[col])\n",
    "    plt.xlabel(\"Xpresso Values (Log)\")\n",
    "\n",
    "    plt.xscale(\"log\")\n",
    "    plt.yscale(\"log\")\n",
    "\n",
    "    plt.ylabel(\"RNA Seq Values (Log)\")\n",
    "    plt.title(\"K562 Xpresso vs RNA Seq Values (Log)\")\n",
    "    plt.savefig(f\"/home/coder/REU/plots/rnaseq_vs_xpresso/{file_name}.rna_seq_xpresso_inner_log.png\")\n",
    "    plt.clf()\n",
    "\n",
    "k5_xpresso_correlation = k5_xpresso_correlation.rename(columns={0: \"PearsonR\", 1: \"PValue\"})\n",
    "k5_xpresso_correlation[\"Sample\"] = [file for file in combined_tab_files_names if file[0] == \"K\"]\n",
    "k5_xpresso_correlation.to_csv(\"/home/coder/REU/csvs/correlation/rnaseq_vs_xpresso/K562_Xpresso.correlation_pvalue_inner_log.csv\",index=False)"
   ]
  },
  {
   "cell_type": "markdown",
   "id": "5f719ea2",
   "metadata": {},
   "source": [
    "## COVERAGE FILES"
   ]
  },
  {
   "cell_type": "code",
   "execution_count": null,
   "id": "8cad77e5",
   "metadata": {},
   "outputs": [],
   "source": [
    "# Generating the lineplot of the average signal value across the target interval from each coverage file.\n",
    "enhancer_gene_K562_100kb = pd.read_csv(\"/home/coder/data/K562_enhancer_gene_links_100kb.hg38.tsv\", sep=\"\\t\")\n",
    "enhancer_gene_GM12878_100kb = pd.read_csv(\"/home/coder/data/GM12878_enhancer_gene_links_100kb.hg38.tsv\", sep=\"\\t\")\n",
    "\n",
    "gene_K562_tss = pd.read_csv(\"/home/coder/data/ABC-multiTSS_nominated/K562/Neighborhoods/GeneList.txt\", sep=\"\\t\")[['name', 'Ensembl_ID', 'chr', 'tss', 'strand', 'H3K27ac.RPM.TSS1Kb', 'DHS.RPM.TSS1Kb']]\n",
    "gene_GM12878_tss = pd.read_csv(\"/home/coder/data/ABC-multiTSS_nominated/GM12878/Neighborhoods/GeneList.txt\", sep=\"\\t\")[['name', 'Ensembl_ID', 'chr', 'tss', 'strand', 'H3K27ac.RPM.TSS1Kb', 'DHS.RPM.TSS1Kb']]\n",
    "\n",
    "for file in tqdm(coverage_files, desc=\"File\"):\n",
    "    cell_line = file[ :file.find(\".\")]\n",
    "    file_name = file[ :file.find(\"E\") + 11]\n",
    "    enhancer_gene_100kb = None\n",
    "    gene_tss = None\n",
    "\n",
    "    if cell_line == \"K562\":\n",
    "        enhancer_gene_100kb = enhancer_gene_K562_100kb\n",
    "        gene_tss = gene_K562_tss\n",
    "    elif cell_line == \"GM12878\":\n",
    "        enhancer_gene_100kb = enhancer_gene_GM12878_100kb\n",
    "        gene_tss = gene_GM12878_tss\n",
    "\n",
    "    rna_df = pd.read_csv(f\"/home/coder/data/RNASeq_bw/{file}\", header=None, sep=\"\\t\")\n",
    "    rna_df.columns = range(len(rna_df.columns))\n",
    "\n",
    "    plus_rna_df = rna_df[rna_df[5] == \"+\"]\n",
    "    minus_rna_df = rna_df[rna_df[5] == \"-\"]\n",
    "    \n",
    "    gene_tss[\"ENSID\"] = gene_tss[\"Ensembl_ID\"]\n",
    "    enhancer_gene_100kb_includeNoEnhancerGene = enhancer_gene_100kb.merge(gene_tss, left_on=\"TargetGeneEnsembl_ID\", right_on=\"Ensembl_ID\", how=\"right\", suffixes=[\"\", \"_gene\"]).reset_index()\n",
    "    gene_list = list(gene_tss[\"ENSID\"])\n",
    "\n",
    "    gene_enhancer_table = enhancer_gene_100kb_includeNoEnhancerGene\n",
    "    rna_method = \"encoding\"\n",
    "\n",
    "    rna_df_list = []\n",
    "    plus_rna_df_list = []\n",
    "    minus_rna_df_list = []\n",
    "\n",
    "    for gene in tqdm(gene_list, desc=\"Gene\"):\n",
    "        gene_df = gene_enhancer_table[gene_enhancer_table[\"ENSID\"] == gene]\n",
    "        gene_enhancer_df = gene_df\n",
    "\n",
    "        if rna_method is not None:\n",
    "            if rna_method == \"encoding\" or rna_method == \"one-hot\":\n",
    "                gene_rna_df = rna_df[rna_df[3] == gene]\n",
    "                plus_gene = plus_rna_df[plus_rna_df[3] == gene]\n",
    "                minus_gene = minus_rna_df[minus_rna_df[3] == gene]\n",
    "            if rna_method == \"embedding\":\n",
    "                gene_rna_df = rna_df[gene_list.index(gene)]\n",
    "                plus_gene = plus_rna_df[gene_list.index(gene)]\n",
    "                minus_gene = minus_rna_df[gene_list.index(gene)]\n",
    "\n",
    "            # Grabs the DNA sequence.\n",
    "            fasta_path = \"/home/coder/data/hg38.fa\"\n",
    "            fasta_extractor = FastaStringExtractor(fasta_path)\n",
    "\n",
    "            # Promoter will be the first row, then enhancers will be sorted by distance from promoter (increasing).\n",
    "            gene_pe = gene_enhancer_df.sort_values(by=\"distance\")\n",
    "            row_0 = gene_pe.iloc[0]\n",
    "            gene_ensid = row_0[\"TargetGeneEnsembl_ID\"]\n",
    "            gene_name = row_0[\"TargetGene\"]\n",
    "            gene_tss = row_0[\"TargetGeneTSS\"]\n",
    "            chrom = row_0[\"chr\"]\n",
    "\n",
    "            if row_0[\"TargetGeneTSS\"] != row_0[\"TargetGeneTSS\"]:\n",
    "                gene_tss = row_0[\"tss\"]\n",
    "                gene_name = row_0[\"name_gene\"]\n",
    "                chrom = row_0[\"chr_gene\"]\n",
    "\n",
    "            # Grabs the DNA sequence of our TSS interval.\n",
    "            max_seq_len = 2000\n",
    "            target_interval = kipoiseq.Interval(chrom, int(gene_tss - max_seq_len / 2), int(gene_tss + max_seq_len / 2))\n",
    "            promoter_seq = fasta_extractor.extract(target_interval)\n",
    "            promoter_code = one_hot_encode(promoter_seq)\n",
    "\n",
    "            # Grabs the RNA signals from each enhancer.\n",
    "            if rna_method == \"encoding\" or rna_method == \"one-hot\":\n",
    "                gene_len = row_0[\"end\"] - row_0[\"start\"]\n",
    "                rna_signal = gene_rna_df[[9]]\n",
    "                gene_rna_df = gene_rna_df[(gene_rna_df[7] >= target_interval.start) & (gene_rna_df[8] <= target_interval.end)]\n",
    "                new_index = gene_rna_df[7].values - target_interval.start\n",
    "                rna_signal = rna_signal.set_index(new_index).reindex(list(range(0, max_seq_len)), fill_value=0)\n",
    "                gene_rna_df = np.array(rna_signal).flatten()\n",
    "\n",
    "                plus_rna_signal = plus_gene[[9]]\n",
    "                plus_gene = plus_gene[(plus_gene[7] >= target_interval.start) & (plus_gene[8] <= target_interval.end)]\n",
    "                new_index = plus_gene[7].values - target_interval.start\n",
    "                plus_rna_signal = plus_rna_signal.set_index(new_index).reindex(list(range(0, max_seq_len)), fill_value=0)\n",
    "                plus_gene = np.array(plus_rna_signal).flatten()\n",
    "\n",
    "                minus_rna_signal = minus_gene[[9]]\n",
    "                minus_gene = minus_gene[(minus_gene[7] >= target_interval.start) & (minus_gene[8] <= target_interval.end)]\n",
    "                new_index = minus_gene[7].values - target_interval.start\n",
    "                minus_rna_signal = minus_rna_signal.set_index(new_index).reindex(list(range(0, max_seq_len)), fill_value=0)\n",
    "                minus_gene = np.array(minus_rna_signal).flatten()\n",
    "            if rna_method == \"embedding\":\n",
    "                gene_rna_df = np.concatenate([gene_rna_df.reshape(1, 125), np.zeros([60, 125])])\n",
    "\n",
    "                plus_gene = np.concatenate([plus_gene.reshape(1, 125), np.zeros([60, 125])])\n",
    "\n",
    "                minus_gene = np.concatenate([minus_gene.reshape(1, 125), np.zeros([60, 125])])\n",
    "\n",
    "            rna_df_list.append(gene_rna_df)\n",
    "            plus_rna_df_list.append(plus_gene)\n",
    "            minus_rna_df_list.append(minus_gene)\n",
    "\n",
    "    df = pd.DataFrame(rna_df_list)\n",
    "    plus_df = pd.DataFrame(plus_rna_df_list)\n",
    "    minus_df = pd.DataFrame(minus_rna_df_list)\n",
    "\n",
    "    df.to_csv(\"/home/coder/REU/RNA-Signal_csv/{file_name}.csv\")\n",
    "    plus_df.to_csv(f\"/home/coder/REU/Plus-Minus-RNA_csv/GM12878.minus.ENCFF074SXQ.plus.csv\")\n",
    "    minus_df.to_csv(f\"/home/coder/REU/Plus-Minus-RNA_csv/GM12878.minus.ENCFF074SXQ.minus.csv\")\n",
    "\n",
    "    # Plotting the average RNA signal for the entire file.\n",
    "    plt.plot(df.columns, df.mean())\n",
    "    plt.xticks(range(0, 2000, 100))\n",
    "    plt.xlabel(\"Position in 2Kbp Promoter Window\")\n",
    "    plt.ylabel(\"Averaged RNA Signal\")\n",
    "    plt.title(f\"Distribution of Averaged RNA Signals for {file_name}\")\n",
    "    plt.savefig(f\"/home/coder/REU/plots/{file_name}.average_rna_signal.png\")\n",
    "    plt.clf()\n",
    "\n",
    "    # Plotting just the plus dataframe.\n",
    "    plt.plot(plus_df.columns, plus_df.mean())\n",
    "    plt.xticks(range(0, 2000, 200))\n",
    "    plt.xlabel(\"position in 2kbp promoter window\")\n",
    "    plt.ylabel(\"averaged rna signal\")\n",
    "    plt.title(f\"distribution of averaged rna signals for gm12878.minus.encff074sxq.plus\", fontsize=8)\n",
    "    plt.savefig(f\"/home/coder/reu/plots/{file_name}.plus.average_rna_signals.png\")\n",
    "    plt.clf()\n",
    "\n",
    "    # Plotting just the minus dataframe.\n",
    "    plt.plot(minus_df.columns, minus_df.mean())\n",
    "    plt.xticks(range(0, 2000, 200))\n",
    "    plt.xlabel(\"position in 2kbp promoter window\")\n",
    "    plt.ylabel(\"averaged rna signal\")\n",
    "    plt.title(f\"distribution of averaged rna signals for gm12878.minus.encff074sxq.minus\", fontsize=8)\n",
    "    plt.savefig(f\"/home/coder/reu/plots/{file_name}.minus.average_rna_signals.png\")\n",
    "    plt.clf()\n",
    "\n",
    "    # Plotting both dataframes against each other.\n",
    "    plt.plot(plus_df.columns, plus_df.mean())\n",
    "    plt.plot(minus_df.columns, minus_df.mean())\n",
    "    plt.xticks(range(0, 2000, 200))\n",
    "    plt.xlabel(\"position in 2kbp promoter window\")\n",
    "    plt.ylabel(\"averaged rna signal\")\n",
    "    plt.title(f\"distribution of averaged rna signals for gm12878.minus.encff074sxq plus and minus strands\", fontsize=8)\n",
    "    plt.savefig(f\"/home/coder/reu/plots/{file_name}.plus_minus.average_rna_signals.png\")\n",
    "    plt.clf()"
   ]
  }
 ],
 "metadata": {
  "kernelspec": {
   "display_name": ".venv",
   "language": "python",
   "name": "python3"
  },
  "language_info": {
   "codemirror_mode": {
    "name": "ipython",
    "version": 3
   },
   "file_extension": ".py",
   "mimetype": "text/x-python",
   "name": "python",
   "nbconvert_exporter": "python",
   "pygments_lexer": "ipython3",
   "version": "3.11.0rc1"
  }
 },
 "nbformat": 4,
 "nbformat_minor": 5
}
