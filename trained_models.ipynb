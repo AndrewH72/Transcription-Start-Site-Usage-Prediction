{
 "cells": [
  {
   "cell_type": "code",
   "execution_count": null,
   "id": "b0412785",
   "metadata": {},
   "outputs": [],
   "source": [
    "import os\n",
    "import h5py\n",
    "import numpy as np\n",
    "import pandas as pd\n",
    "from natsort import natsorted\n",
    "import matplotlib.pyplot as plt"
   ]
  },
  {
   "cell_type": "code",
   "execution_count": null,
   "id": "0c5570a5",
   "metadata": {},
   "outputs": [],
   "source": [
    "data = natsorted(os.listdir(\"data/trained_models\"))\n",
    "cage = pd.read_csv(\"data/RNA_CAGE.txt\", sep=\"\\t\")\n",
    "gm_h5 = h5py.File(\"data/EPInformer/GM12878_enhancer_promoter_encoding.rna_encoding.hg38.h5\")\n",
    "k5_h5 = h5py.File(\"data/EPInformer/K562_enhancer_promoter_encoding.rna_encoding.hg38.h5\")"
   ]
  },
  {
   "cell_type": "code",
   "execution_count": null,
   "id": "1021b975",
   "metadata": {},
   "outputs": [],
   "source": [
    "gm_cage = cage[[\"ENSID\", \"GM12878_CAGE_128*3_sum\"]]\n",
    "k5_cage = cage[[\"ENSID\", \"K562_CAGE_128*3_sum\"]]"
   ]
  },
  {
   "cell_type": "code",
   "execution_count": null,
   "id": "9c263a7a",
   "metadata": {},
   "outputs": [],
   "source": [
    "def decode_and_plot(ensid_folds, h5):\n",
    "    # Grabs the rows that match the condition we set (negative predictions, error threshold, etc).\n",
    "    ensid, folds = zip(*ensid_folds)\n",
    "    bool_df = [gene.decode() in ensid for gene in h5[\"ensid\"]]\n",
    "    rna_signals = h5[\"rna\"][:][bool_df]\n",
    "\n",
    "    # Only look at the genes that have a signal.\n",
    "    filtered_0s = rna_signals[np.any(rna_signals != 0, axis = 1)]\n",
    "    signal_index = np.where(np.any(rna_signals != 0, axis = 1))[0]\n",
    "    only_0s_index = np.where(np.all(rna_signals == 0, axis = 1))[0]\n",
    "    tss_signal = [gene.decode() for gene in h5[\"ensid\"][:][signal_index]]\n",
    "    tss_no_signal = [gene.decode() for gene in h5[\"ensid\"][:][only_0s_index]]\n",
    "\n",
    "    print(f\"Total Number of Matches: {len(rna_signals)}\")\n",
    "    print(f\"Total Matches with >= 1 Non-Zero Value: {len(filtered_0s)}\")\n",
    "    print(f\"Percentage of TSSs with No Signal: {(len(rna_signals) - len(filtered_0s)) / len(rna_signals) * 100:.2f}%\")\n",
    "\n",
    "    print(f\"Genes w/ Signal: {tss_signal}\")\n",
    "    print(f\"Genes w/o Signal: {tss_no_signal}\")\n",
    "\n",
    "    for signal in filtered_0s:\n",
    "        plt.plot(signal)\n",
    "    \n",
    "    return signal_index, only_0s_index"
   ]
  },
  {
   "cell_type": "code",
   "execution_count": null,
   "id": "94bcd9d1",
   "metadata": {},
   "outputs": [],
   "source": [
    "def test_thresholds(dict, h5, conditional_column, thresholds, operand):\n",
    "    # Grab the ENSIDs that fit our condition.\n",
    "    for threshold in thresholds:\n",
    "        if operand == \"g\":\n",
    "            ensid_matches = list(dict[dict[conditional_column] > threshold].iloc[:, 0])\n",
    "            fold_matches = list(dict[dict[conditional_column] > threshold].iloc[:, 3])\n",
    "        elif operand == \"ge\":\n",
    "            ensid_matches = list(dict[dict[conditional_column] >= threshold].iloc[:, 0])\n",
    "            fold_matches = list(dict[dict[conditional_column] >= threshold].iloc[:, 3])\n",
    "        elif operand == \"l\":\n",
    "            ensid_matches = list(dict[dict[conditional_column] < threshold].iloc[:, 0])\n",
    "            fold_matches = list(dict[dict[conditional_column] < threshold].iloc[:, 3])\n",
    "        elif operand == \"le\":\n",
    "            ensid_matches = list(dict[dict[conditional_column] <= threshold].iloc[:, 0])\n",
    "            fold_matches = list(dict[dict[conditional_column] <= threshold].iloc[:, 3])\n",
    "        elif operand == \"eq\":\n",
    "            ensid_matches = list(dict[dict[conditional_column] == threshold].iloc[:, 0])\n",
    "            fold_matches = list(dict[dict[conditional_column] == threshold].iloc[:, 3])\n",
    "\n",
    "        print(f\"Threshold: {threshold}\")\n",
    "        print(\"Genes per Fold: \")\n",
    "        for i, c in pd.Series(fold_matches).value_counts().sort_index().items():\n",
    "            print(f\"{i}: {c}\")\n",
    "        signal_index, only_0s_index = decode_and_plot(zip(ensid_matches, fold_matches), h5)\n",
    "        plt.show()\n",
    "        plt.clf()\n",
    "\n",
    "        return signal_index, only_0s_index"
   ]
  },
  {
   "cell_type": "code",
   "execution_count": null,
   "id": "4f396a85",
   "metadata": {},
   "outputs": [],
   "source": [
    "results_dict = {}\n",
    "results_dict[\"GM12878\"] = pd.DataFrame()\n",
    "results_dict[\"K562\"] = pd.DataFrame()\n",
    "\n",
    "for file in data:\n",
    "    df = pd.read_csv(f\"data/trained_models/{file}\")\n",
    "    if \"GM12878\" in file:\n",
    "        results_dict[\"GM12878\"] = pd.concat([results_dict[\"GM12878\"], df], ignore_index=True)\n",
    "    else:\n",
    "        results_dict[\"K562\"] = pd.concat([results_dict[\"K562\"], df], ignore_index=True)\n",
    "\n",
    "results_dict[\"GM12878\"] = results_dict[\"GM12878\"].merge(gm_cage, left_on=\"Unnamed: 0\", right_on=\"ENSID\").drop(\"ENSID\", axis=1)\n",
    "results_dict[\"K562\"] = results_dict[\"K562\"].merge(gm_cage, left_on=\"Unnamed: 0\", right_on=\"ENSID\").drop(\"ENSID\", axis=1)\n",
    "\n",
    "print(f\"Num Rows (GM12878): {len(results_dict[\"GM12878\"])}\")\n",
    "print(f\"Num Rows (K562): {len(results_dict[\"K562\"])}\")"
   ]
  },
  {
   "cell_type": "code",
   "execution_count": null,
   "id": "d8b95288",
   "metadata": {},
   "outputs": [],
   "source": [
    "for key in results_dict.keys():\n",
    "    print(f\"{key}: \")\n",
    "    results_dict[key][\"Error\"] = abs(results_dict[key][\"Pred\"] - results_dict[key][\"actual\"])\n",
    "    results_dict[key][\"Signed Error\"] = results_dict[key][\"Pred\"] - results_dict[key][\"actual\"]\n",
    "\n",
    "    print(f\"Mean Error per Fold:\\n{results_dict[key].groupby(\"fold_idx\")[\"Error\"].mean()}\")\n",
    "\n",
    "    print(f\"\\nMax Error Fold: {results_dict[key].groupby(\"fold_idx\")[\"Error\"].mean().max()} at Fold {results_dict[key].groupby(\"fold_idx\")[\"Error\"].mean().idxmax()}\")\n",
    "\n",
    "    print(f\"\\nMin Error Fold: {results_dict[key].groupby(\"fold_idx\")[\"Error\"].mean().min()} at Fold {results_dict[key].groupby(\"fold_idx\")[\"Error\"].mean().idxmin()}\")\n",
    "\n",
    "    print(f\"\\nMean Error: {results_dict[key][\"Error\"].mean()}\")\n",
    "\n",
    "    print(f\"\\nMax Error: {results_dict[key][\"Error\"].max()}\")\n",
    "\n",
    "    print(f\"\\nMin Error: {results_dict[key][\"Error\"].min()} \\n\")\n",
    "\n",
    "gm = results_dict[\"GM12878\"]\n",
    "k5 = results_dict[\"K562\"]"
   ]
  },
  {
   "cell_type": "markdown",
   "id": "25f1332e",
   "metadata": {},
   "source": [
    "Negative Predictions"
   ]
  },
  {
   "cell_type": "code",
   "execution_count": null,
   "id": "246294a5",
   "metadata": {},
   "outputs": [],
   "source": [
    "print(\"GM12878: \")\n",
    "gm_neg_pred_signal, gm_neg_pred_no_signal = test_thresholds(gm, gm_h5, \"Pred\", [0], \"l\")\n",
    "\n",
    "print(\"K562: \")\n",
    "k5_neg_pred_signal, k5_neg_pred_no_signal = test_thresholds(k5, k5_h5, \"Pred\", [0], \"l\")"
   ]
  },
  {
   "cell_type": "markdown",
   "id": "2d3e49ea",
   "metadata": {},
   "source": [
    "Low Errors"
   ]
  },
  {
   "cell_type": "code",
   "execution_count": null,
   "id": "4ddd48a7",
   "metadata": {},
   "outputs": [],
   "source": [
    "gm[\"Error\"].quantile([0.01, 0.05, 0.1])"
   ]
  },
  {
   "cell_type": "code",
   "execution_count": null,
   "id": "25a0b838",
   "metadata": {},
   "outputs": [],
   "source": [
    "k5[\"Error\"].quantile([0.01, 0.05, 0.1])"
   ]
  },
  {
   "cell_type": "code",
   "execution_count": null,
   "id": "d59937c3",
   "metadata": {},
   "outputs": [],
   "source": [
    "print(\"GM12878: \")\n",
    "gm_low_error_signal, gm_low_error_no_signal = test_thresholds(gm, gm_h5, \"Error\", [0.001, 0.01, 0.1], \"l\")\n",
    "\n",
    "print(\"K562: \")\n",
    "k5_low_error_signal, k5_low_error_no_signal = test_thresholds(k5, k5_h5, \"Error\", [0.001, 0.01, 0.1], \"l\")"
   ]
  },
  {
   "cell_type": "markdown",
   "id": "fe73f21f",
   "metadata": {},
   "source": [
    "High Errors"
   ]
  },
  {
   "cell_type": "code",
   "execution_count": null,
   "id": "ba16c9f1",
   "metadata": {},
   "outputs": [],
   "source": [
    "gm[\"Error\"].quantile([0.9, 0.95, 0.99])"
   ]
  },
  {
   "cell_type": "code",
   "execution_count": null,
   "id": "71dd42ad",
   "metadata": {},
   "outputs": [],
   "source": [
    "k5[\"Error\"].quantile([0.9, 0.95, 0.99])"
   ]
  },
  {
   "cell_type": "code",
   "execution_count": null,
   "id": "893431d1",
   "metadata": {},
   "outputs": [],
   "source": [
    "print(\"GM12878: \")\n",
    "gm_high_error_signal, gm_high_error_no_signal = test_thresholds(gm, gm_h5, \"Error\", [1, 1.5, 2], \"g\")\n",
    "\n",
    "print(\"K562: \")\n",
    "k5_high_error_signal, k5_high_error_no_signal = test_thresholds(k5, k5_h5, \"Error\", [1, 1.5, 2], \"g\")"
   ]
  },
  {
   "cell_type": "markdown",
   "id": "a70d22cf",
   "metadata": {},
   "source": [
    "Overestimates"
   ]
  },
  {
   "cell_type": "code",
   "execution_count": null,
   "id": "7c40094f",
   "metadata": {},
   "outputs": [],
   "source": [
    "print(\"GM12878: \")\n",
    "gm_over_signal, gm_over_no_signal = test_thresholds(gm, gm_h5, \"Signed Error\", [0], \"l\")\n",
    "\n",
    "print(\"K562\")\n",
    "k5_over_signal, k5_over_no_signal = test_thresholds(k5, k5_h5, \"Signed Error\", [0], \"l\")"
   ]
  },
  {
   "cell_type": "markdown",
   "id": "b88e3f92",
   "metadata": {},
   "source": [
    "Underestimates"
   ]
  },
  {
   "cell_type": "code",
   "execution_count": null,
   "id": "91eb414a",
   "metadata": {},
   "outputs": [],
   "source": [
    "print(\"GM12878: \")\n",
    "gm_under_signal, gm_under_no_signal = test_thresholds(gm, gm_h5, \"Signed Error\", [0], \"g\")\n",
    "\n",
    "print(\"K562\")\n",
    "k5_under_signal, k5_under_no_signal = test_thresholds(k5, k5_h5, \"Signed Error\", [0], \"g\")"
   ]
  },
  {
   "cell_type": "markdown",
   "id": "1998444a",
   "metadata": {},
   "source": [
    "Worst Errors (Over Expressed)"
   ]
  },
  {
   "cell_type": "code",
   "execution_count": null,
   "id": "0edcd9bd",
   "metadata": {},
   "outputs": [],
   "source": [
    "with pd.option_context(\"mode.chained_assignment\", None):\n",
    "    over_ensids_gm = [gene.decode() for gene in gm_h5[\"ensid\"][:][gm_over_signal]]\n",
    "    over_df_gm = gm[gm[\"Unnamed: 0\"].isin(over_ensids_gm)]\n",
    "    over_df_gm[\"Signed Error\"] = pd.to_numeric(over_df_gm[\"Signed Error\"])\n",
    "    over_df_5_worst_gm = over_df_gm.nlargest(5, columns=[\"Signed Error\"])\n",
    "\n",
    "    over_ensids_k5 = [gene.decode() for gene in k5_h5[\"ensid\"][:][k5_over_signal]]\n",
    "    over_df_k5 = k5[k5[\"Unnamed: 0\"].isin(over_ensids_k5)]\n",
    "    over_df_k5[\"Signed Error\"] = pd.to_numeric(over_df_k5[\"Signed Error\"])\n",
    "    over_df_5_worst_k5 = over_df_k5.nlargest(5, columns=[\"Signed Error\"])\n",
    "\n",
    "print(\"GM12878: \")\n",
    "display(over_df_5_worst_gm)\n",
    "\n",
    "print(\"K562: \")\n",
    "display(over_df_5_worst_k5)"
   ]
  },
  {
   "cell_type": "code",
   "execution_count": null,
   "id": "3fd31070",
   "metadata": {},
   "outputs": [],
   "source": [
    "# Individual Plots\n",
    "signal_5_worst_over_gm = gm_h5[\"rna\"][:][[gene.decode() in list(over_df_5_worst_gm[\"Unnamed: 0\"]) for gene in gm_h5[\"ensid\"]]]\n",
    "signal_5_worst_over_k5 = k5_h5[\"rna\"][:][[gene.decode() in list(over_df_5_worst_k5[\"Unnamed: 0\"]) for gene in k5_h5[\"ensid\"]]]\n",
    "\n",
    "ensid_5_worst_over_gm = gm_h5[\"ensid\"][:][[gene.decode() in list(over_df_5_worst_gm[\"Unnamed: 0\"]) for gene in gm_h5[\"ensid\"]]]\n",
    "ensid_5_worst_over_k5 = k5_h5[\"ensid\"][:][[gene.decode() in list(over_df_5_worst_k5[\"Unnamed: 0\"]) for gene in k5_h5[\"ensid\"]]]\n",
    "\n",
    "print(\"GM12878: \")\n",
    "for i, v in enumerate(ensid_5_worst_over_gm):\n",
    "    plt.plot(signal_5_worst_over_gm[i])\n",
    "    plt.title(v.decode())\n",
    "    plt.axvspan(808, 1192, color=\"red\", alpha=0.3)\n",
    "    plt.show()\n",
    "\n",
    "    print(f\"Pred: {gm[gm[\"Unnamed: 0\"] == v.decode()][\"Pred\"].iloc[0]}\")\n",
    "    print(f\"Actual: {gm[gm[\"Unnamed: 0\"] == v.decode()][\"actual\"].iloc[0]}\")\n",
    "\n",
    "print(\"\\nK562: \")\n",
    "for i, v in enumerate(ensid_5_worst_over_k5):\n",
    "    plt.plot(signal_5_worst_over_k5[i])\n",
    "    plt.title(v.decode())\n",
    "    plt.axvspan(808, 1192, color=\"red\", alpha=0.3)\n",
    "    plt.show()\n",
    "\n",
    "    print(f\"Pred: {k5[k5[\"Unnamed: 0\"] == v.decode()][\"Pred\"].iloc[0]}\")\n",
    "    print(f\"Actual: {k5[k5[\"Unnamed: 0\"] == v.decode()][\"actual\"].iloc[0]}\")"
   ]
  },
  {
   "cell_type": "markdown",
   "id": "671c042a",
   "metadata": {
    "vscode": {
     "languageId": "bat"
    }
   },
   "source": [
    "Worst Errors (Under Expressed)"
   ]
  },
  {
   "cell_type": "code",
   "execution_count": null,
   "id": "4748c165",
   "metadata": {},
   "outputs": [],
   "source": [
    "with pd.option_context(\"mode.chained_assignment\", None):\n",
    "    under_ensids_gm = [gene.decode() for gene in gm_h5[\"ensid\"][:][gm_under_signal]]\n",
    "    under_df_gm = gm[gm[\"Unnamed: 0\"].isin(under_ensids_gm)]\n",
    "    under_df_gm[\"Signed Error\"] = pd.to_numeric(under_df_gm[\"Signed Error\"])\n",
    "    under_df_5_worst_gm = under_df_gm.nsmallest(5, columns=[\"Signed Error\"])\n",
    "\n",
    "    under_ensids_k5 = [gene.decode() for gene in k5_h5[\"ensid\"][:][k5_under_signal]]\n",
    "    under_df_k5 = k5[k5[\"Unnamed: 0\"].isin(under_ensids_k5)]\n",
    "    under_df_k5[\"Signed Error\"] = pd.to_numeric(under_df_k5[\"Signed Error\"])\n",
    "    under_df_5_worst_k5 = under_df_k5.nsmallest(5, columns=[\"Signed Error\"])\n",
    "\n",
    "print(\"GM12878: \")\n",
    "display(under_df_5_worst_gm)\n",
    "\n",
    "print(\"K562: \")\n",
    "display(under_df_5_worst_k5)"
   ]
  },
  {
   "cell_type": "code",
   "execution_count": null,
   "id": "4a0634a6",
   "metadata": {},
   "outputs": [],
   "source": [
    "# Individual Plots\n",
    "signal_5_worst_under_gm = gm_h5[\"rna\"][:][[gene.decode() in list(under_df_5_worst_gm[\"Unnamed: 0\"]) for gene in gm_h5[\"ensid\"]]]\n",
    "signal_5_worst_under_k5 = k5_h5[\"rna\"][:][[gene.decode() in list(under_df_5_worst_k5[\"Unnamed: 0\"]) for gene in k5_h5[\"ensid\"]]]\n",
    "\n",
    "ensid_5_worst_under_gm = gm_h5[\"ensid\"][:][[gene.decode() in list(under_df_5_worst_gm[\"Unnamed: 0\"]) for gene in gm_h5[\"ensid\"]]]\n",
    "ensid_5_worst_under_k5 = k5_h5[\"ensid\"][:][[gene.decode() in list(under_df_5_worst_k5[\"Unnamed: 0\"]) for gene in k5_h5[\"ensid\"]]]\n",
    "\n",
    "print(\"GM12878: \")\n",
    "for i, v in enumerate(ensid_5_worst_under_gm):\n",
    "    plt.plot(signal_5_worst_under_gm[i])\n",
    "    plt.title(v.decode())\n",
    "    plt.axvspan(808, 1192, color=\"red\", alpha=0.3)\n",
    "    plt.show()\n",
    "\n",
    "    print(f\"Pred: {gm[gm[\"Unnamed: 0\"] == v.decode()][\"Pred\"].iloc[0]}\")\n",
    "    print(f\"Actual: {gm[gm[\"Unnamed: 0\"] == v.decode()][\"actual\"].iloc[0]}\")\n",
    "\n",
    "print(\"\\nK562: \")\n",
    "for i, v in enumerate(ensid_5_worst_under_k5):\n",
    "    plt.plot(signal_5_worst_under_k5[i])\n",
    "    plt.title(v.decode())\n",
    "    plt.axvspan(808, 1192, color=\"red\", alpha=0.3)\n",
    "    plt.show()\n",
    "\n",
    "    print(f\"Pred: {k5[k5[\"Unnamed: 0\"] == v.decode()][\"Pred\"].iloc[0]}\")\n",
    "    print(f\"Actual: {k5[k5[\"Unnamed: 0\"] == v.decode()][\"actual\"].iloc[0]}\")"
   ]
  },
  {
   "cell_type": "markdown",
   "id": "3c938dec",
   "metadata": {},
   "source": [
    "Zero Signal (Actual)"
   ]
  },
  {
   "cell_type": "code",
   "execution_count": null,
   "id": "bcd06822",
   "metadata": {},
   "outputs": [],
   "source": [
    "print(\"GM12878: \")\n",
    "gm_no_signal_actual = test_thresholds(gm, gm_h5, \"actual\", [0], \"eq\")\n",
    "\n",
    "print(\"K562: \")\n",
    "k5_no_signal_actual = test_thresholds(k5, k5_h5, \"actual\", [0], \"eq\")"
   ]
  }
 ],
 "metadata": {
  "kernelspec": {
   "display_name": ".venv",
   "language": "python",
   "name": "python3"
  },
  "language_info": {
   "codemirror_mode": {
    "name": "ipython",
    "version": 3
   },
   "file_extension": ".py",
   "mimetype": "text/x-python",
   "name": "python",
   "nbconvert_exporter": "python",
   "pygments_lexer": "ipython3",
   "version": "3.13.1"
  }
 },
 "nbformat": 4,
 "nbformat_minor": 5
}
